{
 "cells": [
  {
   "cell_type": "markdown",
   "id": "2031a388",
   "metadata": {},
   "source": [
    "# DataSteroid"
   ]
  },
  {
   "cell_type": "markdown",
   "id": "b3158a2c",
   "metadata": {},
   "source": [
    "### Basic Syntax"
   ]
  },
  {
   "cell_type": "code",
   "execution_count": 1,
   "id": "1cb2ce1c",
   "metadata": {},
   "outputs": [
    {
     "name": "stdout",
     "output_type": "stream",
     "text": [
      "this is DataSteroid\n"
     ]
    }
   ],
   "source": [
    "print(\"this is DataSteroid\")"
   ]
  },
  {
   "cell_type": "markdown",
   "id": "e0a776ad",
   "metadata": {},
   "source": [
    "### Variable"
   ]
  },
  {
   "cell_type": "code",
   "execution_count": 8,
   "id": "a6df7b1b",
   "metadata": {},
   "outputs": [
    {
     "name": "stdout",
     "output_type": "stream",
     "text": [
      "Chini\n"
     ]
    }
   ],
   "source": [
    "sugar = \"Chini\"\n",
    "\n",
    "print(sugar)\n"
   ]
  },
  {
   "cell_type": "markdown",
   "id": "86106570",
   "metadata": {},
   "source": [
    "### Comments"
   ]
  },
  {
   "cell_type": "code",
   "execution_count": 10,
   "id": "7791ed00",
   "metadata": {},
   "outputs": [
    {
     "name": "stdout",
     "output_type": "stream",
     "text": [
      "Suzal\n"
     ]
    }
   ],
   "source": [
    "#This is a comment\n",
    "#fd sfsda\n",
    "#dnjksadjsn\n",
    "\n",
    "\"\"\"\n",
    "sndkjndkjnsjkdnjkdnwjk\n",
    "\"\"\"\n",
    "print(\"Suzal\")"
   ]
  },
  {
   "cell_type": "markdown",
   "id": "645d2da0",
   "metadata": {},
   "source": [
    "### Indentation"
   ]
  },
  {
   "cell_type": "code",
   "execution_count": null,
   "id": "7248cd44",
   "metadata": {},
   "outputs": [
    {
     "name": "stdout",
     "output_type": "stream",
     "text": [
      "You are elgible to vote\n"
     ]
    }
   ],
   "source": [
    "age = 19\n",
    "if (age > 18):\n",
    "    print(\"You are elgible to vote\")\n"
   ]
  },
  {
   "cell_type": "markdown",
   "id": "c32b0339",
   "metadata": {},
   "source": [
    "### Keywords"
   ]
  },
  {
   "cell_type": "code",
   "execution_count": 21,
   "id": "62193b3e",
   "metadata": {},
   "outputs": [
    {
     "name": "stdout",
     "output_type": "stream",
     "text": [
      "['False', 'None', 'True', 'and', 'as', 'assert', 'async', 'await', 'break', 'class', 'continue', 'def', 'del', 'elif', 'else', 'except', 'finally', 'for', 'from', 'global', 'if', 'import', 'in', 'is', 'lambda', 'nonlocal', 'not', 'or', 'pass', 'raise', 'return', 'try', 'while', 'with', 'yield']\n"
     ]
    }
   ],
   "source": [
    "import keyword\n",
    "\n",
    "print(keyword.kwlist)"
   ]
  },
  {
   "cell_type": "markdown",
   "id": "3ef61573",
   "metadata": {},
   "source": [
    "### Identifier"
   ]
  },
  {
   "cell_type": "code",
   "execution_count": 22,
   "id": "f1947303",
   "metadata": {},
   "outputs": [
    {
     "name": "stdout",
     "output_type": "stream",
     "text": [
      "Chini\n"
     ]
    }
   ],
   "source": [
    "_123kwkdmw = \"Chini\"\n",
    "\n",
    "print(_123kwkdmw)"
   ]
  },
  {
   "cell_type": "markdown",
   "id": "c2091fb5",
   "metadata": {},
   "source": [
    "### Basic I/o"
   ]
  },
  {
   "cell_type": "code",
   "execution_count": null,
   "id": "500d1e58",
   "metadata": {},
   "outputs": [
    {
     "name": "stdout",
     "output_type": "stream",
     "text": [
      "Your Name : dmkefd\n"
     ]
    }
   ],
   "source": [
    "tree = \"Chandan\"\n",
    "print(\"Tree Name is:\" ,tree)\n",
    "\n",
    "\n",
    "name = input(\"Enter Your Name :\")\n",
    "print(\"Your Name :\", name)"
   ]
  },
  {
   "cell_type": "markdown",
   "id": "7007cbe6",
   "metadata": {},
   "source": [
    "## Data Types"
   ]
  },
  {
   "cell_type": "markdown",
   "id": "53909bb4",
   "metadata": {},
   "source": [
    "### Numbers"
   ]
  },
  {
   "cell_type": "code",
   "execution_count": 1,
   "id": "93c51757",
   "metadata": {},
   "outputs": [
    {
     "name": "stdout",
     "output_type": "stream",
     "text": [
      "<class 'int'>\n",
      "<class 'float'>\n",
      "<class 'complex'>\n"
     ]
    }
   ],
   "source": [
    "#int\n",
    "a = 2\n",
    "\n",
    "#float\n",
    "b = 2.4\n",
    "\n",
    "#Complex Number\n",
    "c = 2 + 6j\n",
    "\n",
    "print(type(a))\n",
    "print(type(b))\n",
    "print(type(c))"
   ]
  },
  {
   "cell_type": "markdown",
   "id": "8b6ade70",
   "metadata": {},
   "source": [
    "### Boolean"
   ]
  },
  {
   "cell_type": "code",
   "execution_count": 64,
   "id": "5fb0dd76",
   "metadata": {},
   "outputs": [
    {
     "name": "stdout",
     "output_type": "stream",
     "text": [
      "<class 'bool'>\n",
      "True\n"
     ]
    }
   ],
   "source": [
    "# True and False\n",
    "a = False\n",
    "b = not(a)\n",
    "print(type(b))\n",
    "print(b)\n",
    "\n",
    "# print(4>8)"
   ]
  },
  {
   "cell_type": "markdown",
   "id": "9599caa3",
   "metadata": {},
   "source": [
    "### String"
   ]
  },
  {
   "cell_type": "code",
   "execution_count": 65,
   "id": "02c341ee",
   "metadata": {},
   "outputs": [
    {
     "name": "stdout",
     "output_type": "stream",
     "text": [
      "<class 'str'>\n"
     ]
    }
   ],
   "source": [
    "a = \"Hammer\"\n",
    "\n",
    "# print(type(a))\n",
    "\n",
    "# print(a[4])\n",
    "# print(a[:4])\n",
    "\n",
    "# print(a.upper())\n",
    "# print(a.lower())\n",
    "\n",
    "a = a.replace(\"Hammer\", \"Nails\")\n",
    "\n",
    "print(type(a))"
   ]
  },
  {
   "cell_type": "markdown",
   "id": "c9d4c783",
   "metadata": {},
   "source": [
    "### NoneType"
   ]
  },
  {
   "cell_type": "code",
   "execution_count": 24,
   "id": "06ba3433",
   "metadata": {},
   "outputs": [
    {
     "name": "stdout",
     "output_type": "stream",
     "text": [
      "<class 'NoneType'>\n"
     ]
    }
   ],
   "source": [
    "a = None\n",
    "\n",
    "print(type(a))"
   ]
  },
  {
   "cell_type": "markdown",
   "id": "da6727e3",
   "metadata": {},
   "source": [
    "### Type Conversion"
   ]
  },
  {
   "cell_type": "code",
   "execution_count": 39,
   "id": "9e8bd071",
   "metadata": {},
   "outputs": [
    {
     "name": "stdout",
     "output_type": "stream",
     "text": [
      "35\n"
     ]
    }
   ],
   "source": [
    "#Implicit\n",
    "a = 5\n",
    "b = 3.1\n",
    "c = a + b\n",
    "\n",
    "# print(type(c))\n",
    "\n",
    "\n",
    "#Explicit\n",
    "\n",
    "d = \"23\"\n",
    "r = 12\n",
    "\n",
    "e = int(d)\n",
    "f = bool(d)\n",
    "g = float(d)\n",
    "\n",
    "# print(type(g))\n",
    "\n",
    "print(e + r)"
   ]
  },
  {
   "cell_type": "markdown",
   "id": "3be64a7e",
   "metadata": {},
   "source": [
    "## Operators"
   ]
  },
  {
   "cell_type": "code",
   "execution_count": 92,
   "id": "b876543a",
   "metadata": {},
   "outputs": [
    {
     "name": "stdout",
     "output_type": "stream",
     "text": [
      "False\n"
     ]
    }
   ],
   "source": [
    "#Arithmetic \n",
    "\n",
    "a = 4\n",
    "b = 10\n",
    "\n",
    "# print(b//a)\n",
    "\n",
    "#Assignemnt\n",
    "\n",
    "a = 3\n",
    "a **= 2\n",
    "\n",
    "\n",
    "#Comparison\n",
    "\n",
    "a = 10 != 5\n",
    "# print(a)\n",
    "\n",
    "\n",
    "#Logical \n",
    "\n",
    "a = True\n",
    "b = False\n",
    "\n",
    "\n",
    "#AND OR NOT\n",
    "\n",
    "# print(not b == True)\n",
    "\n",
    "#Identity Operator\n",
    "\n",
    "d = 4\n",
    "e = 9\n",
    "f = 9\n",
    "\n",
    "# print(f is not d)\n",
    "\n",
    "\n",
    "\n",
    "# Membership Operator\n",
    "\n",
    "a = [\"Apple\", \"Orange\", \"Kiwi\"]\n",
    "b = \"Apple\"\n",
    "\n",
    "print(b not in a)\n"
   ]
  },
  {
   "cell_type": "markdown",
   "id": "65acdfb3",
   "metadata": {},
   "source": [
    "## Data Structures"
   ]
  },
  {
   "cell_type": "code",
   "execution_count": 51,
   "id": "a9b98015",
   "metadata": {},
   "outputs": [
    {
     "name": "stdout",
     "output_type": "stream",
     "text": [
      "(23, 'Lock', 32, 'Oly', 33, 15, 'Ashes')\n"
     ]
    }
   ],
   "source": [
    "#List\n",
    "\n",
    "# list1 = [21, 32, 56, \"List\"]\n",
    "\n",
    "# print(type(list1))\n",
    "# print(list1[0:])\n",
    "\n",
    "# list1[3] = \"Array\"\n",
    "\n",
    "\n",
    "# list1.append(\"Maths\")\n",
    "# list1.insert(2, \"Python\")\n",
    "# list1.pop()\n",
    "\n",
    "# del list1[2]\n",
    "\n",
    "# list1.clear()\n",
    "\n",
    "# list1.remove(21)\n",
    "# print(len(list1))\n",
    "\n",
    "\n",
    "\n",
    "\n",
    "#Tuple\n",
    "\n",
    "tup1 = (23, \"Lock\", 32, \"Oly\", 33)\n",
    "tup2 = (15, \"Ashes\")\n",
    "\n",
    "# print(len(tup1))\n",
    "\n",
    "# print(tup1[2])\n",
    "\n",
    "# tup1.pop()\n",
    "\n",
    "tup3 = tup1 + tup2\n",
    "print(tup3)\n",
    "\n",
    "\n",
    "\n",
    "\n"
   ]
  },
  {
   "cell_type": "markdown",
   "id": "9fbfb675",
   "metadata": {},
   "source": [
    "### Set"
   ]
  },
  {
   "cell_type": "code",
   "execution_count": 48,
   "id": "b7b04a8e",
   "metadata": {},
   "outputs": [
    {
     "name": "stdout",
     "output_type": "stream",
     "text": [
      "{4}\n"
     ]
    }
   ],
   "source": [
    "# set1 = {\"hii\", 4.5}\n",
    "\n",
    "# # print(type(set1))\n",
    "\n",
    "# set1.add('Bye')\n",
    "\n",
    "# set1.update([\"abc\", \"bcd\", \"efg\"])\n",
    "\n",
    "# set1.remove(\"nest\")\n",
    "\n",
    "# set1.discard(\"nest\")\n",
    "\n",
    "# set1.clear()\n",
    "\n",
    "# x = set1.pop()\n",
    "# print(x)\n",
    "\n",
    "# print(set1)\n",
    "\n",
    "\n",
    "set1 = {1,2,3}\n",
    "set2 = {3,4,1}\n",
    "\n",
    "# print(set1.union(set2))\n",
    "# print(set1.intersection(set2))\n",
    "print(set2.difference(set1))"
   ]
  },
  {
   "cell_type": "markdown",
   "id": "91adb3e5",
   "metadata": {},
   "source": [
    "### Dictionary"
   ]
  },
  {
   "cell_type": "code",
   "execution_count": 42,
   "id": "b8a947c0",
   "metadata": {},
   "outputs": [
    {
     "name": "stdout",
     "output_type": "stream",
     "text": [
      "4\n"
     ]
    }
   ],
   "source": [
    "dict1 = {\n",
    "    \"Brand\": \"Skoda\",\n",
    "    \"Model\": \"Slavia\",\n",
    "    \"Year\": 2025\n",
    "}\n",
    "\n",
    "dict1[\"Year\"] = 2024\n",
    "\n",
    "dict1[\"Competitor\"] = \"Virtus\"\n",
    "\n",
    "# dict1.pop(\"Model\")\n",
    "\n",
    "# dict1.popitem()\n",
    "\n",
    "# del dict1[\"Competitor\"]\n",
    "\n",
    "# dict1.clear()\n",
    "\n",
    "\n",
    "\n",
    "print(len(dict1))\n",
    "\n"
   ]
  },
  {
   "cell_type": "markdown",
   "id": "ab19f664",
   "metadata": {},
   "source": [
    "### Conditional Statements"
   ]
  },
  {
   "cell_type": "code",
   "execution_count": 57,
   "id": "a32b8dae",
   "metadata": {},
   "outputs": [
    {
     "name": "stdout",
     "output_type": "stream",
     "text": [
      "Just got Adult\n"
     ]
    }
   ],
   "source": [
    "age = int(input(\"Enter your Age:\"))\n",
    "\n",
    "if age < 18:\n",
    "    print(\"kid\")\n",
    "elif age == 18:\n",
    "    print(\"Just got Adult\")\n",
    "else:\n",
    "    print(\"Adult\")"
   ]
  },
  {
   "cell_type": "markdown",
   "id": "74c25070",
   "metadata": {},
   "source": [
    "### Loop"
   ]
  },
  {
   "cell_type": "code",
   "execution_count": 92,
   "id": "b6d084df",
   "metadata": {},
   "outputs": [
    {
     "name": "stdout",
     "output_type": "stream",
     "text": [
      "0\n",
      "1\n",
      "2\n",
      "3\n",
      "4\n",
      "5\n",
      "6\n",
      "7\n",
      "8\n",
      "9\n",
      "10\n",
      "11\n",
      "12\n",
      "13\n",
      "14\n",
      "15\n",
      "16\n",
      "17\n",
      "18\n",
      "19\n"
     ]
    }
   ],
   "source": [
    "#for Loop\n",
    "loop1 = [1, 2, 3, 4, 5]\n",
    "\n",
    "# for i in loop1:\n",
    "#     print(i * 69)\n",
    "\n",
    "\n",
    "#While\n",
    "\n",
    "# count = 0\n",
    "\n",
    "# while count < 3:\n",
    "#     print(\"I am Evil\")\n",
    "\n",
    "\n",
    "# range1 = range(10)\n",
    "\n",
    "# for i in range(20*3):\n",
    "#     print(i)\n",
    "    \n",
    "\n",
    "for i in range(20):\n",
    "    if i == 18:\n",
    "        # break\n",
    "        # continue\n",
    "        pass\n",
    "    print(i)\n"
   ]
  },
  {
   "cell_type": "markdown",
   "id": "b9bf3d35",
   "metadata": {},
   "source": [
    "### Functions"
   ]
  },
  {
   "cell_type": "code",
   "execution_count": null,
   "id": "a93677ac",
   "metadata": {},
   "outputs": [
    {
     "name": "stdout",
     "output_type": "stream",
     "text": [
      "name : Google\n",
      "values : Gemini\n",
      "name : OpenAI\n",
      "values : ChatGPT\n"
     ]
    }
   ],
   "source": [
    "# def greet(name):\n",
    "#     print(f\"Hello {name}\")\n",
    "\n",
    "# greet(\"Kara\")\n",
    "\n",
    "# def add(a, b):\n",
    "#     print(a + b)\n",
    "\n",
    "# return1 = add(3, 7)\n",
    "# print(return1)\n",
    "\n",
    "# def welcome(name=\"User\"):\n",
    "#     print(name)\n",
    "\n",
    "# welcome()\n",
    "# welcome(\"Suzal\")\n",
    "\n",
    "# def bye(name, age):\n",
    "#     print(f\"Hello {name} my age is {age}\")\n",
    "\n",
    "# bye(\"Loki\", 31)\n",
    "\n",
    "def param(*num):\n",
    "    print(sum(num))\n",
    "\n",
    "param(20, 40, 21, 94 , 32)\n",
    "\n",
    "def kwargs1 (**details):\n",
    "    for key, values in details.items():\n",
    "        print(key,\":\", values)\n",
    "\n",
    "kwargs1(name=\"Google\", values=\"Gemini\")\n",
    "kwargs1(name=\"OpenAI\", values=\"ChatGPT\")"
   ]
  },
  {
   "cell_type": "markdown",
   "id": "5bacfac2",
   "metadata": {},
   "source": [
    "### Scopes"
   ]
  },
  {
   "cell_type": "code",
   "execution_count": 32,
   "id": "ff4807fd",
   "metadata": {},
   "outputs": [
    {
     "name": "stdout",
     "output_type": "stream",
     "text": [
      "Local\n",
      "Global\n"
     ]
    }
   ],
   "source": [
    "x = \"Global\"\n",
    "\n",
    "def KuchBhi():\n",
    "    y = \"Local\"\n",
    "    print(y)\n",
    "    print(x)\n",
    "\n",
    "\n",
    "# print(y)\n",
    "KuchBhi() \n"
   ]
  },
  {
   "cell_type": "markdown",
   "id": "5172010c",
   "metadata": {},
   "source": [
    "### Lambda"
   ]
  },
  {
   "cell_type": "code",
   "execution_count": 43,
   "id": "88ff1db8",
   "metadata": {},
   "outputs": [
    {
     "name": "stdout",
     "output_type": "stream",
     "text": [
      "[2, 4]\n"
     ]
    }
   ],
   "source": [
    "# def sqr(x):\n",
    "#     return x*x\n",
    "\n",
    "# sqr(3)\n",
    "\n",
    "# sq = lambda x: x*x\n",
    "\n",
    "# sq(9)\n",
    "\n",
    "\n",
    "list1 = [1, 2, 3, 4]\n",
    "\n",
    "# sqrts = list(map(lambda x: x*x, list1))\n",
    "\n",
    "# print(sqrts)\n",
    "\n",
    "even = list(filter(lambda x: x % 2 == 0, list1))\n",
    "print(even)"
   ]
  },
  {
   "cell_type": "markdown",
   "id": "9e9a1990",
   "metadata": {},
   "source": [
    "### Modules"
   ]
  },
  {
   "cell_type": "code",
   "execution_count": 55,
   "id": "4dc1bbf7",
   "metadata": {},
   "outputs": [
    {
     "name": "stdout",
     "output_type": "stream",
     "text": [
      "8\n"
     ]
    }
   ],
   "source": [
    "# import math\n",
    "# print(math.sqrt(9))\n",
    "\n",
    "import add\n",
    "print(add.plus(5, 3))"
   ]
  },
  {
   "cell_type": "markdown",
   "id": "595d1e02",
   "metadata": {},
   "source": [
    "### Errors and Exceptions "
   ]
  },
  {
   "cell_type": "code",
   "execution_count": 21,
   "id": "93ebaea7",
   "metadata": {},
   "outputs": [
    {
     "ename": "ValueError",
     "evalue": "Age can't be negative",
     "output_type": "error",
     "traceback": [
      "\u001b[31m---------------------------------------------------------------------------\u001b[39m",
      "\u001b[31mValueError\u001b[39m                                Traceback (most recent call last)",
      "\u001b[36mCell\u001b[39m\u001b[36m \u001b[39m\u001b[32mIn[21]\u001b[39m\u001b[32m, line 25\u001b[39m\n\u001b[32m     23\u001b[39m age = -\u001b[32m3\u001b[39m\n\u001b[32m     24\u001b[39m \u001b[38;5;28;01mif\u001b[39;00m age < \u001b[32m0\u001b[39m:\n\u001b[32m---> \u001b[39m\u001b[32m25\u001b[39m     \u001b[38;5;28;01mraise\u001b[39;00m \u001b[38;5;167;01mValueError\u001b[39;00m(\u001b[33m\"\u001b[39m\u001b[33mAge can\u001b[39m\u001b[33m'\u001b[39m\u001b[33mt be negative\u001b[39m\u001b[33m\"\u001b[39m)\n\u001b[32m     26\u001b[39m \u001b[38;5;28;01melse\u001b[39;00m:\n\u001b[32m     27\u001b[39m     \u001b[38;5;28mprint\u001b[39m(\u001b[33m\"\u001b[39m\u001b[33mYou are ok\u001b[39m\u001b[33m\"\u001b[39m)\n",
      "\u001b[31mValueError\u001b[39m: Age can't be negative"
     ]
    }
   ],
   "source": [
    "# if age > 10\n",
    "#     print(\"I am 10\")\n",
    "\n",
    "# a = 10/-3\n",
    "# print(a)\n",
    "\n",
    "\n",
    "#try except else finally\n",
    "\n",
    "# try:\n",
    "#     a = \"ABC\"\n",
    "\n",
    "# except ValueError:\n",
    "#     print(\"You can't Force String to behave like Integer\")\n",
    "\n",
    "# else:\n",
    "#     print(\"NO Error Found\")\n",
    "\n",
    "# finally:\n",
    "#     print(\"This will always run \")\n",
    "\n",
    "\n",
    "age = -3\n",
    "if age < 0:\n",
    "    raise ValueError(\"Age can't be negative\")\n",
    "else:\n",
    "    print(\"You are ok\")\n"
   ]
  },
  {
   "cell_type": "markdown",
   "id": "8835ccc3",
   "metadata": {},
   "source": [
    "### OOPs "
   ]
  },
  {
   "cell_type": "code",
   "execution_count": 26,
   "id": "21b81980",
   "metadata": {},
   "outputs": [
    {
     "name": "stdout",
     "output_type": "stream",
     "text": [
      "4\n"
     ]
    }
   ],
   "source": [
    "class Car:\n",
    "   def __init__(self):\n",
    "    self.color = \"red\"\n",
    "    self.tyres = 4\n",
    "\n",
    "nexon = Car()\n",
    "\n",
    "print(nexon.tyres)\n",
    "\n"
   ]
  },
  {
   "cell_type": "markdown",
   "id": "3b2a2b64",
   "metadata": {},
   "source": [
    "### Date & Time"
   ]
  },
  {
   "cell_type": "code",
   "execution_count": 42,
   "id": "99c3131b",
   "metadata": {},
   "outputs": [
    {
     "name": "stdout",
     "output_type": "stream",
     "text": [
      "2025-07-31 17:49:48.502376\n",
      "2025-08-11 17:49:48.502376\n"
     ]
    }
   ],
   "source": [
    "from datetime import datetime, date, time, timedelta\n",
    "\n",
    "livedatatime = datetime.now()\n",
    "# print(type(livedatatime))\n",
    "\n",
    "# d = date(2025, 8, 1)\n",
    "# t = time(15, 44, 4)\n",
    "# print(d, t)\n",
    "\n",
    "# strtime = livedatatime.strftime(\"%d %m %Y %H %M\")\n",
    "# print(type(strtime))\n",
    "\n",
    "\n",
    "# dateComing = \"04-12-2025\"\n",
    "\n",
    "# dt = datetime.strptime(dateComing, \"%d-%m-%Y\")\n",
    "# print(dt)\n",
    "\n",
    "yesterday = livedatatime - timedelta(days=1)\n",
    "tomorrow = livedatatime + timedelta(days=10)\n",
    "\n",
    "print(yesterday)\n",
    "print(tomorrow)"
   ]
  },
  {
   "cell_type": "markdown",
   "id": "bd19e8fc",
   "metadata": {},
   "source": [
    "### Comprehension"
   ]
  },
  {
   "cell_type": "code",
   "execution_count": null,
   "id": "98227180",
   "metadata": {},
   "outputs": [
    {
     "name": "stdout",
     "output_type": "stream",
     "text": [
      "{1: 1, 2: 4, 3: 9, 4: 16, 5: 25, 6: 36, 7: 49}\n",
      "{1: 1, 2: 4, 3: 9, 4: 16, 5: 25, 6: 36, 7: 49}\n"
     ]
    }
   ],
   "source": [
    "# list1 = []\n",
    "# for i in range(1, 8):\n",
    "#     list1.append(i*i)\n",
    "\n",
    "# # print(list1)\n",
    "\n",
    "# list2 = [i*i for i in range(1,8)]\n",
    "\n",
    "# print(list2)\n",
    "\n",
    "# name1 = [\"raman\", \"paras\", \"richa\", \"ishika\"]\n",
    "\n",
    "# upper_name = [i.upper() for i in name1]\n",
    "\n",
    "# print(upper_name)\n",
    "\n",
    "#Dictionary\n",
    "\n",
    "sqrNum = {}\n",
    "for i in range(1, 8):\n",
    "    sqrNum[i] = i*i\n",
    "print(sqrNum)\n",
    "\n",
    "\n",
    "DictComp = {i: i*i for i in range(1,8)}\n",
    "print(DictComp)\n",
    "\n",
    "\n",
    "\n"
   ]
  },
  {
   "cell_type": "markdown",
   "id": "5e7e8d80",
   "metadata": {},
   "source": [
    "## File I/O"
   ]
  },
  {
   "cell_type": "code",
   "execution_count": 3,
   "id": "b274bc68",
   "metadata": {},
   "outputs": [
    {
     "name": "stdout",
     "output_type": "stream",
     "text": [
      "[\"Welcome to DataSteroid. It's time to stop drowning in data and start using it. We provide cutting-edge tools to accelerate your analytics and unlock insights at unprecedented speed. Unleash the true power of your information.This is the New Append Content\"]\n"
     ]
    }
   ],
   "source": [
    "\n",
    "\n",
    "file = open(\"intro.txt\", \"a\")\n",
    "file.write(\"This is the New Append Content\")\n",
    "\n",
    "file = open(\"intro.txt\", \"r\")\n",
    "print(file.readlines())\n",
    "\n",
    "\n",
    "\n",
    "# file2 = open(\"basic.txt\", \"r+\")\n",
    "# file2.write(\"This is a basic file which will consist of the data that we will be required to study for the concept of data analysis\")\n",
    "# file2.close()\n",
    "\n",
    "# file2 = open(\"basic.txt\", \"r\")\n",
    "# file2.seek(0)\n",
    "# print(file2.read())\n",
    "\n",
    "\n",
    "\n",
    "#CSV\n",
    "\n",
    "# csvFile = open(\"Students.csv\", \"w\")\n",
    "# csvFile.write(\"Name, Marks\\n\")\n",
    "# csvFile.write(\"Mandy, 76\\n\")\n",
    "# csvFile.write(\"Oly, 80\\n\")\n",
    "\n",
    "\n",
    "# csvFile = open(\"Students.csv\", \"r\")\n",
    "# print(csvFile.read())\n",
    "\n",
    "\n",
    "#json\n",
    "# import json\n",
    "\n",
    "# f1 = open(\"settings.json\", \"r\")\n",
    "# print(json.load(f1))\n",
    "\n",
    "\n",
    "\n",
    "\n"
   ]
  },
  {
   "cell_type": "code",
   "execution_count": null,
   "id": "9d76efac",
   "metadata": {},
   "outputs": [],
   "source": []
  }
 ],
 "metadata": {
  "kernelspec": {
   "display_name": "Python 3",
   "language": "python",
   "name": "python3"
  },
  "language_info": {
   "codemirror_mode": {
    "name": "ipython",
    "version": 3
   },
   "file_extension": ".py",
   "mimetype": "text/x-python",
   "name": "python",
   "nbconvert_exporter": "python",
   "pygments_lexer": "ipython3",
   "version": "3.13.5"
  }
 },
 "nbformat": 4,
 "nbformat_minor": 5
}
